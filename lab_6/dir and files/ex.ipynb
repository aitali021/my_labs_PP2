{
 "cells": [
  {
   "cell_type": "markdown",
   "metadata": {},
   "source": [
    "1."
   ]
  },
  {
   "cell_type": "code",
   "execution_count": 1,
   "metadata": {},
   "outputs": [
    {
     "name": "stdout",
     "output_type": "stream",
     "text": [
      "Directories:\n",
      "[]\n",
      "\n",
      "Files:\n",
      "['ex.ipynb', 'examples.txt']\n",
      "\n",
      "All:\n",
      "['ex.ipynb', 'examples.txt']\n"
     ]
    }
   ],
   "source": [
    "import os\n",
    "\n",
    "def uu():\n",
    "    path = \"C:\\\\Users\\\\Aitali\\\\Documents\\\\new folder\\\\labs\\\\lab_6\\\\dir and files\" \n",
    "    print(\"Directories:\")\n",
    "    print([d for d in os.listdir(path) if os.path.isdir(os.path.join(path, d))])\n",
    "    print(\"\\nFiles:\")\n",
    "    print([f for f in os.listdir(path) if os.path.isfile(os.path.join(path, f))])\n",
    "    print(\"\\nAll:\")\n",
    "    print(os.listdir(path))\n",
    "\n",
    "uu()\n"
   ]
  },
  {
   "cell_type": "markdown",
   "metadata": {},
   "source": [
    "2."
   ]
  },
  {
   "cell_type": "code",
   "execution_count": null,
   "metadata": {},
   "outputs": [
    {
     "name": "stdout",
     "output_type": "stream",
     "text": [
      "exists: True\n",
      "readable: True\n",
      "qritable: True\n",
      "executable: True\n"
     ]
    }
   ],
   "source": [
    "import os\n",
    "\n",
    "def accs():\n",
    "    path = \"C:\\\\Users\\\\Aitali\\\\Documents\\\\new folder\\\\labs\\\\lab_6\\\\dir and files\\\\examples.txt\"\n",
    "\n",
    "    print(\"exists:\", os.path.exists(path))\n",
    "    print(\"readable:\", os.access(path, os.R_OK))\n",
    "    print(\"qritable:\", os.access(path, os.W_OK))\n",
    "    print(\"executable:\", os.access(path, os.X_OK))\n",
    "\n",
    "accs()\n"
   ]
  },
  {
   "cell_type": "markdown",
   "metadata": {},
   "source": [
    "3."
   ]
  },
  {
   "cell_type": "code",
   "execution_count": 57,
   "metadata": {},
   "outputs": [
    {
     "name": "stdout",
     "output_type": "stream",
     "text": [
      "C:\\Users\\Aitali\\Documents\\new folder\\labs\\lab_6\\dir and files\\examples.txt exists.\n",
      "catalog: C:\\Users\\Aitali\\Documents\\new folder\\labs\\lab_6\\dir and files\n",
      "aty: examples.txt\n"
     ]
    }
   ],
   "source": [
    "import os\n",
    "\n",
    "def path_tekseru():\n",
    "    path = \"C:\\\\Users\\\\Aitali\\\\Documents\\\\new folder\\\\labs\\\\lab_6\\\\dir and files\\\\examples.txt\"\n",
    "    if os.path.exists(path):\n",
    "        print(f\"{path} exists.\")\n",
    "        print(\"catalog:\", os.path.dirname(path))\n",
    "        print(\"aty:\", os.path.basename(path))\n",
    "    else:\n",
    "        print(f\"{path} file jok\")\n",
    "\n",
    "path_tekseru()\n"
   ]
  },
  {
   "cell_type": "markdown",
   "metadata": {},
   "source": [
    "4."
   ]
  },
  {
   "cell_type": "code",
   "execution_count": 75,
   "metadata": {},
   "outputs": [
    {
     "name": "stdout",
     "output_type": "stream",
     "text": [
      "5\n"
     ]
    }
   ],
   "source": [
    "def count():\n",
    "    filename = \"C:\\\\Users\\\\Aitali\\\\Documents\\\\new folder\\\\labs\\\\lab_6\\\\dir and files\\\\examples.txt\"\n",
    "\n",
    "    with open(filename, \"r\", encoding=\"utf-8\") as file:\n",
    "        return len(file.readlines())\n",
    "\n",
    "print(count())\n"
   ]
  },
  {
   "cell_type": "markdown",
   "metadata": {},
   "source": [
    "5."
   ]
  },
  {
   "cell_type": "code",
   "execution_count": 61,
   "metadata": {},
   "outputs": [],
   "source": [
    "def write_list_to_file():\n",
    "    filename = \"C:\\\\Users\\\\Aitali\\\\Documents\\\\new folder\\\\labs\\\\lab_6\\\\dir and files\\\\examples.txt\"\n",
    "    data_list = [\"KBTU\", \"SDU\", \"MUIT\", \"KazNU\", \"Satbayev University\"]\n",
    "\n",
    "    with open(filename, \"w\", encoding=\"utf-8\") as file:\n",
    "        for item in data_list:\n",
    "            file.write(str(item) + \"\\n\")\n",
    "\n",
    "write_list_to_file()\n"
   ]
  },
  {
   "cell_type": "markdown",
   "metadata": {},
   "source": [
    "6."
   ]
  },
  {
   "cell_type": "code",
   "execution_count": null,
   "metadata": {},
   "outputs": [],
   "source": [
    "import string\n",
    "\n",
    "def generate_files():\n",
    "    directory = \"C:\\\\Users\\\\Aitali\\\\Documents\\\\new folder\\\\labs\\\\lab_6\\\\dir and files\"\n",
    "\n",
    "    for letter in string.ascii_uppercase:\n",
    "        with open(f\"{directory}{letter}.txt\", \"w\", encoding=\"utf-8\") as file:\n",
    "            file.write(f\"This is {letter}.txt\")\n",
    "\n",
    "generate_files()\n"
   ]
  },
  {
   "cell_type": "markdown",
   "metadata": {},
   "source": [
    "7."
   ]
  },
  {
   "cell_type": "code",
   "execution_count": 73,
   "metadata": {},
   "outputs": [
    {
     "name": "stdout",
     "output_type": "stream",
     "text": [
      "satty koshirildi C:\\Users\\Aitali\\Documents\\new folder\\labs\\lab_6\\dir and files\\examples_copy.txt\n"
     ]
    }
   ],
   "source": [
    "import os\n",
    "\n",
    "def copy_file():\n",
    "    source = r\"C:\\Users\\Aitali\\Documents\\new folder\\labs\\lab_6\\dir and files\\examples.txt\"\n",
    "    destination_dir = r\"C:\\Users\\Aitali\\Documents\\new folder\\labs\\lab_6\\dir and files\"\n",
    "    if not os.path.exists(destination_dir):\n",
    "        os.makedirs(destination_dir)\n",
    "    destination = os.path.join(destination_dir, \"examples_copy.txt\")\n",
    "    with open(source, \"r\", encoding=\"utf-8\") as src, open(destination, \"w\", encoding=\"utf-8\") as dest:\n",
    "        dest.write(src.read())\n",
    "    print(f\"satty koshirildi {destination}\")\n",
    "\n",
    "copy_file()\n"
   ]
  },
  {
   "cell_type": "markdown",
   "metadata": {},
   "source": [
    "8."
   ]
  },
  {
   "cell_type": "code",
   "execution_count": 74,
   "metadata": {},
   "outputs": [
    {
     "name": "stdout",
     "output_type": "stream",
     "text": [
      "labs/lab_6/dir and files/examples.txt file jok\n"
     ]
    }
   ],
   "source": [
    "import os\n",
    "\n",
    "def delete_file():\n",
    "    filename = \"labs/lab_6/dir and files/examples.txt\"\n",
    "    if os.path.exists(filename):\n",
    "        os.remove(filename)\n",
    "        print(f\"{filename} oshirildi.\")\n",
    "    else:\n",
    "        print(f\"{filename} file jok\")\n",
    "        \n",
    "delete_file()\n"
   ]
  }
 ],
 "metadata": {
  "kernelspec": {
   "display_name": ".venv",
   "language": "python",
   "name": "python3"
  },
  "language_info": {
   "codemirror_mode": {
    "name": "ipython",
    "version": 3
   },
   "file_extension": ".py",
   "mimetype": "text/x-python",
   "name": "python",
   "nbconvert_exporter": "python",
   "pygments_lexer": "ipython3",
   "version": "3.11.9"
  }
 },
 "nbformat": 4,
 "nbformat_minor": 2
}
